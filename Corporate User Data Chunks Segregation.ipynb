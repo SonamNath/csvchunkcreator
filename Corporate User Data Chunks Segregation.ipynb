{
 "cells": [
  {
   "cell_type": "markdown",
   "id": "7b346b22",
   "metadata": {},
   "source": [
    "# Result: Import a csv file and divides it into chunks and store them into multiple csv files\n",
    "\n",
    "Further, Following code covers the following main aspects:\n",
    "\n",
    "1. It imports a csv file and create two separate dataframes \n",
    "\n",
    "    1.1 First email DataFrame includes firstName, lastName, **email**\n",
    "    \n",
    "    1.2 Second phoneNumber DataFrame includes firstName, lastName, **phoneNumber**\n",
    "    \n",
    "2. Now in Email Dataframe, I have taken care of two condition removing blank values and duplicates.\n",
    "\n",
    "\n",
    "3. While in phoneNumber Dataframe, I have taken care of blank values as well as only kept 10 digit number and if a 12 digit number exists I have removed '91'. Lastly I have make sure there is no blanks, aplhabets and special characters included as well.\n",
    "    \n",
    "    \n",
    "4. Finally, then I break them both in chunks and distributing them in multiple files"
   ]
  },
  {
   "cell_type": "code",
   "execution_count": 14,
   "id": "b06f3029",
   "metadata": {},
   "outputs": [],
   "source": [
    "#Libraries that needs to be imported\n",
    "\n",
    "import pandas as pd\n",
    "import os\n",
    "import re"
   ]
  },
  {
   "cell_type": "code",
   "execution_count": 4,
   "id": "88865b24",
   "metadata": {},
   "outputs": [],
   "source": [
    "#import csv files path\n",
    "input_csv_file = \"C:\\\\Users\\\\Sonam Nath\\\\Desktop\\\\Corporate Data\\\\Sample Data.csv\""
   ]
  },
  {
   "cell_type": "code",
   "execution_count": 5,
   "id": "d405c8a8",
   "metadata": {},
   "outputs": [],
   "source": [
    "#Output Directory where the Output files will be stored\n",
    "output_directory = \"C:\\\\Users\\\\Sonam Nath\\\\Desktop\\\\Segregated Output Data\""
   ]
  },
  {
   "cell_type": "code",
   "execution_count": 6,
   "id": "981a0f01",
   "metadata": {},
   "outputs": [],
   "source": [
    "#ensure the given folder path exists and if it doesn't then create one to store the output files\n",
    "os.makedirs(output_directory,exist_ok = True)"
   ]
  },
  {
   "cell_type": "code",
   "execution_count": 7,
   "id": "69a5337d",
   "metadata": {},
   "outputs": [],
   "source": [
    "#Now using pandas read the csv file and store it in a dataframe format\n",
    "df = pd.read_csv(input_csv_file).copy()"
   ]
  },
  {
   "cell_type": "code",
   "execution_count": 8,
   "id": "f20cc2cf",
   "metadata": {},
   "outputs": [],
   "source": [
    "#Create a separate dataframe for email\n",
    "df1 = df[['firstName','lastName','email']].copy()\n",
    "df1.dropna(subset = 'email',inplace = True)\n",
    "email = df1.drop_duplicates(subset = 'email')"
   ]
  },
  {
   "cell_type": "code",
   "execution_count": 9,
   "id": "76d6aade",
   "metadata": {},
   "outputs": [],
   "source": [
    "'''Writing a function the apply condition \n",
    "on the phone number such as check length and if the length is >10 then remove 91 if exists'''\n",
    "\n",
    "def evaluating_phoneNumber(phone_number):\n",
    "    # Convert phone_number to a string (if it's not already) and remove non-numeric characters\n",
    "    cleaned_number = re.sub(r'[^0-9]', '', str(phone_number))\n",
    "    \n",
    "    # Check if the cleaned number is at least 10 characters long and starts with '91'\n",
    "    if len(cleaned_number) == 10:\n",
    "        if cleaned_number.startswith('91'):\n",
    "            return ''\n",
    "        else:\n",
    "            return cleaned_number\n",
    "    elif len(cleaned_number) == 12 and cleaned_number.startswith('91'):\n",
    "        return str(cleaned_number)[2:]\n",
    "    return ''"
   ]
  },
  {
   "cell_type": "code",
   "execution_count": 10,
   "id": "cafc433e",
   "metadata": {},
   "outputs": [],
   "source": [
    "#creating a separate dataframe for phonenumber\n",
    "df2 = df[['firstName','lastName','phoneNumber']].copy()\n",
    "df2['phoneNumber'] = df2['phoneNumber'].apply(evaluating_phoneNumber)\n",
    "\n",
    "# Drop duplicates\n",
    "df2.drop_duplicates(subset= ['phoneNumber'],inplace=True)\n",
    "\n",
    "# Check for and handle missing values (NaN)\n",
    "df2.dropna(subset=['phoneNumber'], inplace=True)\n",
    "\n",
    "phoneNumber = df2[df2['phoneNumber']!='']"
   ]
  },
  {
   "cell_type": "code",
   "execution_count": 11,
   "id": "4c046ab8",
   "metadata": {},
   "outputs": [],
   "source": [
    "#Split the dataframe in the inputed records\n",
    "chunk_size = 3 #You can give the chunk size according to the requirement suits you\n",
    "echunks = [email[i:i +chunk_size] for i in range(0,len(email),chunk_size)]\n",
    "pchunks = [phoneNumber[i:i +chunk_size] for i in range(0,len(phoneNumber),chunk_size)]"
   ]
  },
  {
   "cell_type": "code",
   "execution_count": 12,
   "id": "d3237383",
   "metadata": {},
   "outputs": [],
   "source": [
    "# Process each chunk and create separate CSV files\n",
    "for i, chunk in enumerate(echunks):\n",
    "\n",
    "    # Create a separate file for email addresses\n",
    "    email_output_file = os.path.join(output_directory, f'email_chunk_{i}.csv')\n",
    "    email_chunk = chunk\n",
    "    email_chunk.to_csv(email_output_file, index=False)"
   ]
  },
  {
   "cell_type": "code",
   "execution_count": 13,
   "id": "921ba655",
   "metadata": {},
   "outputs": [],
   "source": [
    "# Process each chunk and create separate CSV files\n",
    "for i, chunk in enumerate(pchunks):\n",
    "\n",
    "    # Create a separate file for email addresses\n",
    "    phoneNumber_output_file = os.path.join(output_directory, f'phone_chunk_{i}.csv')\n",
    "    phoneNumber_chunk = chunk\n",
    "    phoneNumber_chunk.to_csv(phoneNumber_output_file, index=False)"
   ]
  }
 ],
 "metadata": {
  "kernelspec": {
   "display_name": "Python 3 (ipykernel)",
   "language": "python",
   "name": "python3"
  },
  "language_info": {
   "codemirror_mode": {
    "name": "ipython",
    "version": 3
   },
   "file_extension": ".py",
   "mimetype": "text/x-python",
   "name": "python",
   "nbconvert_exporter": "python",
   "pygments_lexer": "ipython3",
   "version": "3.11.4"
  }
 },
 "nbformat": 4,
 "nbformat_minor": 5
}
